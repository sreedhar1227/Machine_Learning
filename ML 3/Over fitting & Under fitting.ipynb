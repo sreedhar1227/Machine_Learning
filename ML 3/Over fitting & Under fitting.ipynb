{
 "cells": [
  {
   "cell_type": "code",
   "execution_count": null,
   "id": "35913515",
   "metadata": {},
   "outputs": [],
   "source": [
    "\"Over fitting\" : The performance of model is good during the training but The performance is not good at the testing.\n",
    "\n",
    "\"Under fitting\" : The performance of model is not good during the training and testing.\n",
    "    \n",
    "\"Bias\" : Training error is less, \"Variance\" : Testing error is more in Over fitting\n",
    "\n",
    "\"Bias\" : Training error is high, \"Variance\" : Testing error is high in Under fitting"
   ]
  },
  {
   "cell_type": "code",
   "execution_count": 1,
   "id": "07417b5b",
   "metadata": {},
   "outputs": [
    {
     "name": "stdout",
     "output_type": "stream",
     "text": [
      "Requirement already satisfied: mglearn in c:\\users\\sreedhar\\anaconda3\\lib\\site-packages (0.2.0)\n",
      "Requirement already satisfied: numpy in c:\\users\\sreedhar\\anaconda3\\lib\\site-packages (from mglearn) (1.24.3)\n",
      "Requirement already satisfied: matplotlib in c:\\users\\sreedhar\\anaconda3\\lib\\site-packages (from mglearn) (3.7.2)\n",
      "Requirement already satisfied: scikit-learn in c:\\users\\sreedhar\\anaconda3\\lib\\site-packages (from mglearn) (1.3.0)\n",
      "Requirement already satisfied: pandas in c:\\users\\sreedhar\\anaconda3\\lib\\site-packages (from mglearn) (2.0.3)\n",
      "Requirement already satisfied: pillow in c:\\users\\sreedhar\\anaconda3\\lib\\site-packages (from mglearn) (10.0.1)\n",
      "Requirement already satisfied: cycler in c:\\users\\sreedhar\\anaconda3\\lib\\site-packages (from mglearn) (0.11.0)\n",
      "Requirement already satisfied: imageio in c:\\users\\sreedhar\\anaconda3\\lib\\site-packages (from mglearn) (2.26.0)\n",
      "Requirement already satisfied: joblib in c:\\users\\sreedhar\\anaconda3\\lib\\site-packages (from mglearn) (1.2.0)\n",
      "Requirement already satisfied: contourpy>=1.0.1 in c:\\users\\sreedhar\\anaconda3\\lib\\site-packages (from matplotlib->mglearn) (1.0.5)\n",
      "Requirement already satisfied: fonttools>=4.22.0 in c:\\users\\sreedhar\\anaconda3\\lib\\site-packages (from matplotlib->mglearn) (4.25.0)\n",
      "Requirement already satisfied: kiwisolver>=1.0.1 in c:\\users\\sreedhar\\anaconda3\\lib\\site-packages (from matplotlib->mglearn) (1.4.4)\n",
      "Requirement already satisfied: packaging>=20.0 in c:\\users\\sreedhar\\anaconda3\\lib\\site-packages (from matplotlib->mglearn) (23.1)\n",
      "Requirement already satisfied: pyparsing<3.1,>=2.3.1 in c:\\users\\sreedhar\\anaconda3\\lib\\site-packages (from matplotlib->mglearn) (3.0.9)\n",
      "Requirement already satisfied: python-dateutil>=2.7 in c:\\users\\sreedhar\\anaconda3\\lib\\site-packages (from matplotlib->mglearn) (2.8.2)\n",
      "Requirement already satisfied: pytz>=2020.1 in c:\\users\\sreedhar\\anaconda3\\lib\\site-packages (from pandas->mglearn) (2023.3.post1)\n",
      "Requirement already satisfied: tzdata>=2022.1 in c:\\users\\sreedhar\\anaconda3\\lib\\site-packages (from pandas->mglearn) (2023.3)\n",
      "Requirement already satisfied: scipy>=1.5.0 in c:\\users\\sreedhar\\anaconda3\\lib\\site-packages (from scikit-learn->mglearn) (1.11.1)\n",
      "Requirement already satisfied: threadpoolctl>=2.0.0 in c:\\users\\sreedhar\\anaconda3\\lib\\site-packages (from scikit-learn->mglearn) (2.2.0)\n",
      "Requirement already satisfied: six>=1.5 in c:\\users\\sreedhar\\anaconda3\\lib\\site-packages (from python-dateutil>=2.7->matplotlib->mglearn) (1.16.0)\n"
     ]
    }
   ],
   "source": [
    "!pip install mglearn"
   ]
  },
  {
   "cell_type": "code",
   "execution_count": 2,
   "id": "55125d5f",
   "metadata": {},
   "outputs": [],
   "source": [
    "import mglearn\n",
    "import numpy as np\n",
    "import matplotlib.pyplot as plt\n",
    "\n",
    "import warnings\n",
    "warnings.filterwarnings('ignore')"
   ]
  },
  {
   "cell_type": "code",
   "execution_count": 3,
   "id": "a5a5162f",
   "metadata": {},
   "outputs": [],
   "source": [
    "from sklearn.metrics import mean_absolute_error, mean_squared_error"
   ]
  },
  {
   "cell_type": "code",
   "execution_count": 4,
   "id": "605a1276",
   "metadata": {},
   "outputs": [],
   "source": [
    "from sklearn.model_selection import train_test_split\n",
    "from sklearn.linear_model import LinearRegression"
   ]
  },
  {
   "cell_type": "code",
   "execution_count": 5,
   "id": "b8442d5d",
   "metadata": {},
   "outputs": [],
   "source": [
    "x,y = mglearn.datasets.load_extended_boston()\n",
    "x_train, x_test, y_train, y_test = train_test_split(x,y,random_state=0)"
   ]
  },
  {
   "cell_type": "code",
   "execution_count": 6,
   "id": "0140590b",
   "metadata": {},
   "outputs": [
    {
     "data": {
      "text/plain": [
       "(379, 104)"
      ]
     },
     "execution_count": 6,
     "metadata": {},
     "output_type": "execute_result"
    }
   ],
   "source": [
    "x_train.shape"
   ]
  },
  {
   "cell_type": "code",
   "execution_count": 7,
   "id": "105c07b1",
   "metadata": {},
   "outputs": [
    {
     "data": {
      "text/plain": [
       "(127,)"
      ]
     },
     "execution_count": 7,
     "metadata": {},
     "output_type": "execute_result"
    }
   ],
   "source": [
    "y_test.shape"
   ]
  },
  {
   "cell_type": "code",
   "execution_count": 8,
   "id": "c528ec30",
   "metadata": {},
   "outputs": [
    {
     "data": {
      "text/plain": [
       "(127, 104)"
      ]
     },
     "execution_count": 8,
     "metadata": {},
     "output_type": "execute_result"
    }
   ],
   "source": [
    "x_test.shape"
   ]
  },
  {
   "cell_type": "code",
   "execution_count": 9,
   "id": "70c0bd2f",
   "metadata": {},
   "outputs": [
    {
     "data": {
      "text/plain": [
       "506"
      ]
     },
     "execution_count": 9,
     "metadata": {},
     "output_type": "execute_result"
    }
   ],
   "source": [
    "379+127"
   ]
  },
  {
   "cell_type": "markdown",
   "id": "f5690db7",
   "metadata": {},
   "source": [
    "# Linear Regression"
   ]
  },
  {
   "cell_type": "code",
   "execution_count": 10,
   "id": "213067c5",
   "metadata": {},
   "outputs": [],
   "source": [
    "my_linear_reg = LinearRegression().fit(x_train, y_train)"
   ]
  },
  {
   "cell_type": "code",
   "execution_count": 25,
   "id": "c562d7c6",
   "metadata": {},
   "outputs": [
    {
     "name": "stdout",
     "output_type": "stream",
     "text": [
      "TRAIN DATA RESULTS\n",
      "Mean Absolute Error on Train data :  1.5674141791450296\n",
      "Mean Squared Error on Train data :  4.090362612543774\n",
      "Training set R squared score :  0.9520519609032729\n",
      "\n",
      "TEST DATA RESULTS\n",
      "Mean Absolute Error on Test data :  3.225895212018616\n",
      "Mean Squared Error on Test data :  32.06913512158312\n",
      "Testing set R squared score :  0.6074721959665752\n"
     ]
    }
   ],
   "source": [
    "my_preds_train = my_linear_reg.predict(x_train)\n",
    "my_preds_test = my_linear_reg.predict(x_test)\n",
    "\n",
    "print('TRAIN DATA RESULTS')\n",
    "print(\"Mean Absolute Error on Train data : \", mean_absolute_error(y_train, my_preds_train))\n",
    "print(\"Mean Squared Error on Train data : \", mean_squared_error(y_train, my_preds_train))\n",
    "print('Training set R squared score : ', my_linear_reg.score(x_train, y_train))\n",
    "\n",
    "print('\\nTEST DATA RESULTS')\n",
    "print(\"Mean Absolute Error on Test data : \", mean_absolute_error(y_test, my_preds_test))\n",
    "print(\"Mean Squared Error on Test data : \", mean_squared_error(y_test, my_preds_test))\n",
    "print('Testing set R squared score : ', my_linear_reg.score(x_test, y_test))\n",
    "\n"
   ]
  },
  {
   "cell_type": "code",
   "execution_count": 16,
   "id": "a0158733",
   "metadata": {},
   "outputs": [
    {
     "data": {
      "text/plain": [
       "<matplotlib.legend.Legend at 0x18a7e490450>"
      ]
     },
     "execution_count": 16,
     "metadata": {},
     "output_type": "execute_result"
    },
    {
     "data": {
      "image/png": "[encoded data removed]",
      "text/plain": [
       "<Figure size 640x480 with 1 Axes>"
      ]
     },
     "metadata": {},
     "output_type": "display_data"
    }
   ],
   "source": [
    "plt.plot(my_linear_reg.coef_, 'x', label = 'LinearRegression')\n",
    "plt.xlabel('Coefficient index')\n",
    "plt.ylabel('Coefficient Magnitude')\n",
    "plt.legend()\n"
   ]
  },
  {
   "cell_type": "code",
   "execution_count": null,
   "id": "be3fc32a",
   "metadata": {},
   "outputs": [],
   "source": [
    "#Regularization : It is the technique that help us to control the values of slope. There are Three techniques in Regularization\n",
    "                  \n",
    "                  1)Ridge Regression \n",
    "        \n",
    "                  2) Lasso Regression \n",
    "            \n",
    "                  3) Elastic Net\n",
    "\n"
   ]
  },
  {
   "cell_type": "markdown",
   "id": "0e77c458",
   "metadata": {},
   "source": [
    "# Ridge Regression"
   ]
  },
  {
   "cell_type": "code",
   "execution_count": 26,
   "id": "fc3d4cb9",
   "metadata": {},
   "outputs": [
    {
     "name": "stdout",
     "output_type": "stream",
     "text": [
      "TRAIN DATA RESULTS\n",
      "Mean Absolute Error on Train data :  2.1656396671236813\n",
      "Mean Squared Error on Train data :  9.742485553723814\n",
      "Training set R squared score :  0.885796658517094\n",
      "\n",
      "TEST DATA RESULTS\n",
      "Mean Absolute Error on Test data :  2.962692600141008\n",
      "Mean Squared Error on Test data :  20.198582539263406\n",
      "Testing set R squared score :  0.7527683481744755\n"
     ]
    }
   ],
   "source": [
    "from sklearn.linear_model import Ridge\n",
    "\n",
    "my_ridge_model = Ridge().fit(x_train, y_train)\n",
    "\n",
    "my_preds_train = my_ridge_model.predict(x_train)\n",
    "my_preds_test = my_ridge_model.predict(x_test)\n",
    "\n",
    "print('TRAIN DATA RESULTS')\n",
    "print(\"Mean Absolute Error on Train data : \", mean_absolute_error(y_train, my_preds_train))\n",
    "print(\"Mean Squared Error on Train data : \", mean_squared_error(y_train, my_preds_train))\n",
    "print('Training set R squared score : ', my_ridge_model.score(x_train, y_train))\n",
    "\n",
    "print('\\nTEST DATA RESULTS')\n",
    "print(\"Mean Absolute Error on Test data : \", mean_absolute_error(y_test, my_preds_test))\n",
    "print(\"Mean Squared Error on Test data : \", mean_squared_error(y_test, my_preds_test))\n",
    "print('Testing set R squared score : ', my_ridge_model.score(x_test, y_test))"
   ]
  },
  {
   "cell_type": "code",
   "execution_count": 18,
   "id": "ce52f385",
   "metadata": {},
   "outputs": [
    {
     "data": {
      "text/plain": [
       "<matplotlib.legend.Legend at 0x18a7e6d2dd0>"
      ]
     },
     "execution_count": 18,
     "metadata": {},
     "output_type": "execute_result"
    },
    {
     "data": {
      "image/png": "[encoded data removed]",
      "text/plain": [
       "<Figure size 640x480 with 1 Axes>"
      ]
     },
     "metadata": {},
     "output_type": "display_data"
    }
   ],
   "source": [
    "plt.plot(my_ridge_model.coef_, '.', label = 'RidgeRegression')\n",
    "plt.plot(my_linear_reg.coef_, 'x', label = 'LinearRegression')\n",
    "plt.xlabel('Coefficient index')\n",
    "plt.ylabel('Coefficient Magnitude')\n",
    "plt.ylim(-50,50)\n",
    "plt.legend()"
   ]
  },
  {
   "cell_type": "code",
   "execution_count": 24,
   "id": "1ba07868",
   "metadata": {},
   "outputs": [
    {
     "name": "stdout",
     "output_type": "stream",
     "text": [
      "TRAIN DATA RESULTS\n",
      "Mean Absolute Error on Train data :  2.005068728844702\n",
      "Mean Squared Error on Train data :  8.211738346857977\n",
      "Training set R squared score :  0.9037403798627095\n",
      "\n",
      "TEST DATA RESULTS\n",
      "Mean Absolute Error on Test data :  2.895860455142613\n",
      "Mean Squared Error on Test data :  18.989806220044567\n",
      "Testing set R squared score :  0.7675638302587816\n"
     ]
    }
   ],
   "source": [
    "my_ridge_model = Ridge(alpha=0.5).fit(x_train, y_train)\n",
    "\n",
    "my_preds_train = my_ridge_model.predict(x_train)\n",
    "my_preds_test = my_ridge_model.predict(x_test)\n",
    "\n",
    "print('TRAIN DATA RESULTS')\n",
    "print(\"Mean Absolute Error on Train data : \", mean_absolute_error(y_train, my_preds_train))\n",
    "print(\"Mean Squared Error on Train data : \", mean_squared_error(y_train, my_preds_train))\n",
    "print('Training set R squared score : ', my_ridge_model.score(x_train, y_train))\n",
    "\n",
    "print('\\nTEST DATA RESULTS')\n",
    "print(\"Mean Absolute Error on Test data : \", mean_absolute_error(y_test, my_preds_test))\n",
    "print(\"Mean Squared Error on Test data : \", mean_squared_error(y_test, my_preds_test))\n",
    "print('Testing set R squared score : ', my_ridge_model.score(x_test, y_test))"
   ]
  },
  {
   "cell_type": "code",
   "execution_count": 21,
   "id": "0b2e3f1b",
   "metadata": {},
   "outputs": [
    {
     "data": {
      "text/plain": [
       "<matplotlib.legend.Legend at 0x18a7e7aa3d0>"
      ]
     },
     "execution_count": 21,
     "metadata": {},
     "output_type": "execute_result"
    },
    {
     "data": {
      "image/png": "[encoded data removed]",
      "text/plain": [
       "<Figure size 640x480 with 1 Axes>"
      ]
     },
     "metadata": {},
     "output_type": "display_data"
    }
   ],
   "source": [
    "plt.plot(my_ridge_model.coef_, '.', label = 'RidgeRegression')\n",
    "plt.plot(my_linear_reg.coef_, 'x', label = 'LinearRegression')\n",
    "plt.xlabel('Coefficient index')\n",
    "plt.ylabel('Coefficient Magnitude')\n",
    "plt.ylim(-50,50)\n",
    "plt.legend()"
   ]
  },
  {
   "cell_type": "code",
   "execution_count": 27,
   "id": "df1a250f",
   "metadata": {},
   "outputs": [
    {
     "name": "stdout",
     "output_type": "stream",
     "text": [
      "TRAIN DATA RESULTS\n",
      "Mean Absolute Error on Train data :  2.378873764339878\n",
      "Mean Squared Error on Train data :  11.780499812148047\n",
      "Training set R squared score :  0.8619066525203295\n",
      "\n",
      "TEST DATA RESULTS\n",
      "Mean Absolute Error on Test data :  3.1067811553368023\n",
      "Mean Squared Error on Test data :  22.185110982084087\n",
      "Testing set R squared score :  0.728453141532512\n"
     ]
    }
   ],
   "source": [
    "my_ridge_model = Ridge(alpha=2).fit(x_train, y_train)\n",
    "\n",
    "my_preds_train = my_ridge_model.predict(x_train)\n",
    "my_preds_test = my_ridge_model.predict(x_test)\n",
    "\n",
    "print('TRAIN DATA RESULTS')\n",
    "print(\"Mean Absolute Error on Train data : \", mean_absolute_error(y_train, my_preds_train))\n",
    "print(\"Mean Squared Error on Train data : \", mean_squared_error(y_train, my_preds_train))\n",
    "print('Training set R squared score : ', my_ridge_model.score(x_train, y_train))\n",
    "\n",
    "print('\\nTEST DATA RESULTS')\n",
    "print(\"Mean Absolute Error on Test data : \", mean_absolute_error(y_test, my_preds_test))\n",
    "print(\"Mean Squared Error on Test data : \", mean_squared_error(y_test, my_preds_test))\n",
    "print('Testing set R squared score : ', my_ridge_model.score(x_test, y_test))"
   ]
  },
  {
   "cell_type": "code",
   "execution_count": 23,
   "id": "e6ab76dc",
   "metadata": {},
   "outputs": [
    {
     "data": {
      "text/plain": [
       "<matplotlib.legend.Legend at 0x18a7e6b2dd0>"
      ]
     },
     "execution_count": 23,
     "metadata": {},
     "output_type": "execute_result"
    },
    {
     "data": {
      "image/png": "[encoded data removed]",
      "text/plain": [
       "<Figure size 640x480 with 1 Axes>"
      ]
     },
     "metadata": {},
     "output_type": "display_data"
    }
   ],
   "source": [
    "plt.plot(my_ridge_model.coef_, '.', label = 'RidgeRegression')\n",
    "plt.plot(my_linear_reg.coef_, 'x', label = 'LinearRegression')\n",
    "plt.xlabel('Coefficient index')\n",
    "plt.ylabel('Coefficient Magnitude')\n",
    "plt.ylim(-50,50)\n",
    "plt.legend()"
   ]
  },
  {
   "cell_type": "markdown",
   "id": "c51aa6a5",
   "metadata": {},
   "source": [
    "# Lasso Regression"
   ]
  },
  {
   "cell_type": "code",
   "execution_count": 31,
   "id": "bb63bc65",
   "metadata": {},
   "outputs": [],
   "source": [
    "from sklearn.linear_model import Lasso"
   ]
  },
  {
   "cell_type": "code",
   "execution_count": 32,
   "id": "461205e5",
   "metadata": {},
   "outputs": [
    {
     "name": "stdout",
     "output_type": "stream",
     "text": [
      "TRAIN DATA RESULTS\n",
      "Mean Absolute Error on Train data :  5.512753169106904\n",
      "Mean Squared Error on Train data :  60.29264561394445\n",
      "Training set R squared score :  0.29323768991114607\n",
      "\n",
      "TEST DATA RESULTS\n",
      "Mean Absolute Error on Test data :  5.488898627760889\n",
      "Mean Squared Error on Test data :  64.59328142116775\n",
      "Testing set R squared score :  0.20937503255272294\n"
     ]
    }
   ],
   "source": [
    "\n",
    "my_lasso_model = Lasso().fit(x_train, y_train)\n",
    "\n",
    "my_preds_train = my_lasso_model.predict(x_train)\n",
    "my_preds_test = my_lasso_model.predict(x_test)\n",
    "\n",
    "print('TRAIN DATA RESULTS')\n",
    "print(\"Mean Absolute Error on Train data : \", mean_absolute_error(y_train, my_preds_train))\n",
    "print(\"Mean Squared Error on Train data : \", mean_squared_error(y_train, my_preds_train))\n",
    "print('Training set R squared score : ', my_lasso_model.score(x_train, y_train))\n",
    "\n",
    "print('\\nTEST DATA RESULTS')\n",
    "print(\"Mean Absolute Error on Test data : \", mean_absolute_error(y_test, my_preds_test))\n",
    "print(\"Mean Squared Error on Test data : \", mean_squared_error(y_test, my_preds_test))\n",
    "print('Testing set R squared score : ', my_lasso_model.score(x_test, y_test))"
   ]
  },
  {
   "cell_type": "code",
   "execution_count": 34,
   "id": "e26a2532",
   "metadata": {},
   "outputs": [
    {
     "name": "stdout",
     "output_type": "stream",
     "text": [
      "TRAIN DATA RESULTS\n",
      "Mean Absolute Error on Train data :  2.0980931241271286\n",
      "Mean Squared Error on Train data :  8.8624821740234\n",
      "Training set R squared score :  0.8961122320864717\n",
      "\n",
      "TEST DATA RESULTS\n",
      "Mean Absolute Error on Test data :  2.7602010637447023\n",
      "Mean Squared Error on Test data :  18.970546753140095\n",
      "Testing set R squared score :  0.7677995670886713\n"
     ]
    }
   ],
   "source": [
    "my_lasso_model = Lasso(alpha=.01).fit(x_train, y_train)\n",
    "\n",
    "my_preds_train = my_lasso_model.predict(x_train)\n",
    "my_preds_test = my_lasso_model.predict(x_test)\n",
    "\n",
    "print('TRAIN DATA RESULTS')\n",
    "print(\"Mean Absolute Error on Train data : \", mean_absolute_error(y_train, my_preds_train))\n",
    "print(\"Mean Squared Error on Train data : \", mean_squared_error(y_train, my_preds_train))\n",
    "print('Training set R squared score : ', my_lasso_model.score(x_train, y_train))\n",
    "\n",
    "print('\\nTEST DATA RESULTS')\n",
    "print(\"Mean Absolute Error on Test data : \", mean_absolute_error(y_test, my_preds_test))\n",
    "print(\"Mean Squared Error on Test data : \", mean_squared_error(y_test, my_preds_test))\n",
    "print('Testing set R squared score : ', my_lasso_model.score(x_test, y_test))"
   ]
  },
  {
   "cell_type": "code",
   "execution_count": 39,
   "id": "55fd26df",
   "metadata": {},
   "outputs": [
    {
     "name": "stdout",
     "output_type": "stream",
     "text": [
      "TRAIN DATA RESULTS\n",
      "Mean Absolute Error on Train data :  2.095984481353791\n",
      "Mean Squared Error on Train data :  8.853062522072264\n",
      "Training set R squared score :  0.8962226511086497\n",
      "\n",
      "TEST DATA RESULTS\n",
      "Mean Absolute Error on Test data :  2.7773320164164526\n",
      "Mean Squared Error on Test data :  19.14558277883675\n",
      "Testing set R squared score :  0.7656571174549983\n"
     ]
    }
   ],
   "source": [
    "my_lasso_model = Lasso(alpha=.01, max_iter=10000).fit(x_train, y_train)\n",
    "\n",
    "my_preds_train = my_lasso_model.predict(x_train)\n",
    "my_preds_test = my_lasso_model.predict(x_test)\n",
    "\n",
    "print('TRAIN DATA RESULTS')\n",
    "print(\"Mean Absolute Error on Train data : \", mean_absolute_error(y_train, my_preds_train))\n",
    "print(\"Mean Squared Error on Train data : \", mean_squared_error(y_train, my_preds_train))\n",
    "print('Training set R squared score : ', my_lasso_model.score(x_train, y_train))\n",
    "\n",
    "print('\\nTEST DATA RESULTS')\n",
    "print(\"Mean Absolute Error on Test data : \", mean_absolute_error(y_test, my_preds_test))\n",
    "print(\"Mean Squared Error on Test data : \", mean_squared_error(y_test, my_preds_test))\n",
    "print('Testing set R squared score : ', my_lasso_model.score(x_test, y_test))"
   ]
  },
  {
   "cell_type": "code",
   "execution_count": 41,
   "id": "ec335906",
   "metadata": {},
   "outputs": [
    {
     "data": {
      "text/plain": [
       "array([ -0.        ,  -0.        ,  -0.        ,   0.        ,\n",
       "        -0.        ,   0.        ,  -0.        ,  -1.43260465,\n",
       "        10.94771183,   0.        ,   0.        ,   0.        ,\n",
       "        -0.39260971,  -0.        ,  -0.        ,  -0.        ,\n",
       "         0.        ,  -0.        ,  -0.        ,  -0.        ,\n",
       "        -0.        ,  -8.75628457,  -0.        ,  -0.        ,\n",
       "        -0.        ,  -0.        ,   2.10027365,  -0.        ,\n",
       "         0.        ,  -0.        ,   0.        ,  -0.        ,\n",
       "         0.        ,   0.        ,  -0.        ,   0.        ,\n",
       "        -0.        ,  -0.        ,   0.        ,   0.        ,\n",
       "         0.        ,  -0.        ,   0.        ,  -3.96958293,\n",
       "         0.        ,   6.61845793,  -0.        ,  -0.        ,\n",
       "        -0.        ,   0.        ,  -4.42086828,  -2.10371434,\n",
       "         3.79607992,  -0.        ,   4.38591262,   0.        ,\n",
       "         0.        ,   0.1795777 ,  -0.        ,  -1.1614282 ,\n",
       "        -4.33485764,  -0.        ,  -0.        ,  -2.13549022,\n",
       "        -0.        ,  -1.85967636,  -0.        ,  -0.        ,\n",
       "        29.81957225,  -2.05624806,   0.        , -11.98034348,\n",
       "       -11.14870694, -11.67147204,  12.974385  , -10.93053676,\n",
       "        -0.        ,  -0.        ,   3.441574  ,   0.        ,\n",
       "        -0.        ,  -0.        ,  -8.56750394,   0.        ,\n",
       "         0.        ,  -0.        ,   0.        ,  -7.26115293,\n",
       "        -0.        ,   0.        ,   0.94254631,   0.        ,\n",
       "         0.        ,  -7.62603559,   1.65255854,   0.        ,\n",
       "         0.        , -17.39462971,   0.        ,   0.        ,\n",
       "        -0.        ,   0.34404124,  -8.24645566,  17.5606721 ])"
      ]
     },
     "execution_count": 41,
     "metadata": {},
     "output_type": "execute_result"
    }
   ],
   "source": [
    "my_lasso_model.coef_"
   ]
  },
  {
   "cell_type": "code",
   "execution_count": 42,
   "id": "0ab3345b",
   "metadata": {},
   "outputs": [
    {
     "data": {
      "text/plain": [
       "71"
      ]
     },
     "execution_count": 42,
     "metadata": {},
     "output_type": "execute_result"
    }
   ],
   "source": [
    "np.sum(my_lasso_model.coef_==0)"
   ]
  },
  {
   "cell_type": "code",
   "execution_count": 43,
   "id": "ab4823b8",
   "metadata": {},
   "outputs": [
    {
     "data": {
      "text/plain": [
       "33"
      ]
     },
     "execution_count": 43,
     "metadata": {},
     "output_type": "execute_result"
    }
   ],
   "source": [
    "104-71"
   ]
  },
  {
   "cell_type": "markdown",
   "id": "1c6e9425",
   "metadata": {},
   "source": [
    "# Elastic Net Regression"
   ]
  },
  {
   "cell_type": "code",
   "execution_count": 49,
   "id": "8315abec",
   "metadata": {},
   "outputs": [],
   "source": [
    "from sklearn.linear_model import ElasticNet"
   ]
  },
  {
   "cell_type": "code",
   "execution_count": 50,
   "id": "ddcebc7c",
   "metadata": {},
   "outputs": [
    {
     "name": "stdout",
     "output_type": "stream",
     "text": [
      "TRAIN DATA RESULTS\n",
      "Mean Absolute Error on Train data :  2.4253498365524946\n",
      "Mean Squared Error on Train data :  12.33842273711578\n",
      "Training set R squared score :  0.8962226511086497\n",
      "\n",
      "TEST DATA RESULTS\n",
      "Mean Absolute Error on Test data :  3.120603233011405\n",
      "Mean Squared Error on Test data :  22.801753811315482\n",
      "Testing set R squared score :  0.7209054027265391\n"
     ]
    }
   ],
   "source": [
    "my_ElasticNet_model = ElasticNet(0.01).fit(x_train, y_train)\n",
    "\n",
    "my_preds_train = my_ElasticNet_model.predict(x_train)\n",
    "my_preds_test = my_ElasticNet_model.predict(x_test)\n",
    "\n",
    "print('TRAIN DATA RESULTS')\n",
    "print(\"Mean Absolute Error on Train data : \", mean_absolute_error(y_train, my_preds_train))\n",
    "print(\"Mean Squared Error on Train data : \", mean_squared_error(y_train, my_preds_train))\n",
    "print('Training set R squared score : ', my_lasso_model.score(x_train, y_train))\n",
    "\n",
    "print('\\nTEST DATA RESULTS')\n",
    "print(\"Mean Absolute Error on Test data : \", mean_absolute_error(y_test, my_preds_test))\n",
    "print(\"Mean Squared Error on Test data : \", mean_squared_error(y_test, my_preds_test))\n",
    "print('Testing set R squared score : ', my_ElasticNet_model.score(x_test, y_test))"
   ]
  },
  {
   "cell_type": "code",
   "execution_count": 51,
   "id": "e538b0a0",
   "metadata": {},
   "outputs": [],
   "source": [
    "from sklearn.model_selection import GridSearchCV"
   ]
  },
  {
   "cell_type": "code",
   "execution_count": 53,
   "id": "10650416",
   "metadata": {},
   "outputs": [
    {
     "data": {
      "text/html": [
       "<style>#sk-container-id-1 {color: black;}#sk-container-id-1 pre{padding: 0;}#sk-container-id-1 div.sk-toggleable {background-color: white;}#sk-container-id-1 label.sk-toggleable__label {cursor: pointer;display: block;width: 100%;margin-bottom: 0;padding: 0.3em;box-sizing: border-box;text-align: center;}#sk-container-id-1 label.sk-toggleable__label-arrow:before {content: \"▸\";float: left;margin-right: 0.25em;color: #696969;}#sk-container-id-1 label.sk-toggleable__label-arrow:hover:before {color: black;}#sk-container-id-1 div.sk-estimator:hover label.sk-toggleable__label-arrow:before {color: black;}#sk-container-id-1 div.sk-toggleable__content {max-height: 0;max-width: 0;overflow: hidden;text-align: left;background-color: #f0f8ff;}#sk-container-id-1 div.sk-toggleable__content pre {margin: 0.2em;color: black;border-radius: 0.25em;background-color: #f0f8ff;}#sk-container-id-1 input.sk-toggleable__control:checked~div.sk-toggleable__content {max-height: 200px;max-width: 100%;overflow: auto;}#sk-container-id-1 input.sk-toggleable__control:checked~label.sk-toggleable__label-arrow:before {content: \"▾\";}#sk-container-id-1 div.sk-estimator input.sk-toggleable__control:checked~label.sk-toggleable__label {background-color: #d4ebff;}#sk-container-id-1 div.sk-label input.sk-toggleable__control:checked~label.sk-toggleable__label {background-color: #d4ebff;}#sk-container-id-1 input.sk-hidden--visually {border: 0;clip: rect(1px 1px 1px 1px);clip: rect(1px, 1px, 1px, 1px);height: 1px;margin: -1px;overflow: hidden;padding: 0;position: absolute;width: 1px;}#sk-container-id-1 div.sk-estimator {font-family: monospace;background-color: #f0f8ff;border: 1px dotted black;border-radius: 0.25em;box-sizing: border-box;margin-bottom: 0.5em;}#sk-container-id-1 div.sk-estimator:hover {background-color: #d4ebff;}#sk-container-id-1 div.sk-parallel-item::after {content: \"\";width: 100%;border-bottom: 1px solid gray;flex-grow: 1;}#sk-container-id-1 div.sk-label:hover label.sk-toggleable__label {background-color: #d4ebff;}#sk-container-id-1 div.sk-serial::before {content: \"\";position: absolute;border-left: 1px solid gray;box-sizing: border-box;top: 0;bottom: 0;left: 50%;z-index: 0;}#sk-container-id-1 div.sk-serial {display: flex;flex-direction: column;align-items: center;background-color: white;padding-right: 0.2em;padding-left: 0.2em;position: relative;}#sk-container-id-1 div.sk-item {position: relative;z-index: 1;}#sk-container-id-1 div.sk-parallel {display: flex;align-items: stretch;justify-content: center;background-color: white;position: relative;}#sk-container-id-1 div.sk-item::before, #sk-container-id-1 div.sk-parallel-item::before {content: \"\";position: absolute;border-left: 1px solid gray;box-sizing: border-box;top: 0;bottom: 0;left: 50%;z-index: -1;}#sk-container-id-1 div.sk-parallel-item {display: flex;flex-direction: column;z-index: 1;position: relative;background-color: white;}#sk-container-id-1 div.sk-parallel-item:first-child::after {align-self: flex-end;width: 50%;}#sk-container-id-1 div.sk-parallel-item:last-child::after {align-self: flex-start;width: 50%;}#sk-container-id-1 div.sk-parallel-item:only-child::after {width: 0;}#sk-container-id-1 div.sk-dashed-wrapped {border: 1px dashed gray;margin: 0 0.4em 0.5em 0.4em;box-sizing: border-box;padding-bottom: 0.4em;background-color: white;}#sk-container-id-1 div.sk-label label {font-family: monospace;font-weight: bold;display: inline-block;line-height: 1.2em;}#sk-container-id-1 div.sk-label-container {text-align: center;}#sk-container-id-1 div.sk-container {/* jupyter's `normalize.less` sets `[hidden] { display: none; }` but bootstrap.min.css set `[hidden] { display: none !important; }` so we also need the `!important` here to be able to override the default hidden behavior on the sphinx rendered scikit-learn.org. See: https://github.com/scikit-learn/scikit-learn/issues/21755 */display: inline-block !important;position: relative;}#sk-container-id-1 div.sk-text-repr-fallback {display: none;}</style><div id=\"sk-container-id-1\" class=\"sk-top-container\"><div class=\"sk-text-repr-fallback\"><pre>GridSearchCV(estimator=ElasticNet(alpha=0.01),\n",
       "             param_grid={&#x27;alpha&#x27;: [0.001, 0.1, 0.2, 0.5, 0.8, 1, 5, 10],\n",
       "                         &#x27;max_iter&#x27;: [1500, 10000, 100000]})</pre><b>In a Jupyter environment, please rerun this cell to show the HTML representation or trust the notebook. <br />On GitHub, the HTML representation is unable to render, please try loading this page with nbviewer.org.</b></div><div class=\"sk-container\" hidden><div class=\"sk-item sk-dashed-wrapped\"><div class=\"sk-label-container\"><div class=\"sk-label sk-toggleable\"><input class=\"sk-toggleable__control sk-hidden--visually\" id=\"sk-estimator-id-1\" type=\"checkbox\" ><label for=\"sk-estimator-id-1\" class=\"sk-toggleable__label sk-toggleable__label-arrow\">GridSearchCV</label><div class=\"sk-toggleable__content\"><pre>GridSearchCV(estimator=ElasticNet(alpha=0.01),\n",
       "             param_grid={&#x27;alpha&#x27;: [0.001, 0.1, 0.2, 0.5, 0.8, 1, 5, 10],\n",
       "                         &#x27;max_iter&#x27;: [1500, 10000, 100000]})</pre></div></div></div><div class=\"sk-parallel\"><div class=\"sk-parallel-item\"><div class=\"sk-item\"><div class=\"sk-label-container\"><div class=\"sk-label sk-toggleable\"><input class=\"sk-toggleable__control sk-hidden--visually\" id=\"sk-estimator-id-2\" type=\"checkbox\" ><label for=\"sk-estimator-id-2\" class=\"sk-toggleable__label sk-toggleable__label-arrow\">estimator: ElasticNet</label><div class=\"sk-toggleable__content\"><pre>ElasticNet(alpha=0.01)</pre></div></div></div><div class=\"sk-serial\"><div class=\"sk-item\"><div class=\"sk-estimator sk-toggleable\"><input class=\"sk-toggleable__control sk-hidden--visually\" id=\"sk-estimator-id-3\" type=\"checkbox\" ><label for=\"sk-estimator-id-3\" class=\"sk-toggleable__label sk-toggleable__label-arrow\">ElasticNet</label><div class=\"sk-toggleable__content\"><pre>ElasticNet(alpha=0.01)</pre></div></div></div></div></div></div></div></div></div></div>"
      ],
      "text/plain": [
       "GridSearchCV(estimator=ElasticNet(alpha=0.01),\n",
       "             param_grid={'alpha': [0.001, 0.1, 0.2, 0.5, 0.8, 1, 5, 10],\n",
       "                         'max_iter': [1500, 10000, 100000]})"
      ]
     },
     "execution_count": 53,
     "metadata": {},
     "output_type": "execute_result"
    }
   ],
   "source": [
    "params = {'alpha':[0.001, 0.1, 0.2, 0.5, 0.8, 1, 5, 10], 'max_iter':[1500, 10000, 100000]}\n",
    "grid_search = GridSearchCV(my_ElasticNet_model, params)\n",
    "grid_search.fit(x_train, y_train)"
   ]
  },
  {
   "cell_type": "code",
   "execution_count": 54,
   "id": "9a5a6416",
   "metadata": {},
   "outputs": [
    {
     "data": {
      "text/plain": [
       "{'alpha': 0.001, 'max_iter': 1500}"
      ]
     },
     "execution_count": 54,
     "metadata": {},
     "output_type": "execute_result"
    }
   ],
   "source": [
    "grid_search.best_params_"
   ]
  },
  {
   "cell_type": "code",
   "execution_count": 55,
   "id": "4f0dd671",
   "metadata": {},
   "outputs": [
    {
     "name": "stdout",
     "output_type": "stream",
     "text": [
      "TRAIN DATA RESULTS\n",
      "Mean Absolute Error on Train data :  1.8835362642637083\n",
      "Mean Squared Error on Train data :  6.968661289977277\n",
      "Training set R squared score :  0.9183119748457013\n",
      "\n",
      "TEST DATA RESULTS\n",
      "Mean Absolute Error on Test data :  2.9119869621231875\n",
      "Mean Squared Error on Test data :  18.57069077824571\n",
      "Testing set R squared score :  0.772693824048202\n"
     ]
    }
   ],
   "source": [
    "my_preds_train = grid_search.predict(x_train)\n",
    "my_preds_test = grid_search.predict(x_test)\n",
    "\n",
    "print('TRAIN DATA RESULTS')\n",
    "print(\"Mean Absolute Error on Train data : \", mean_absolute_error(y_train, my_preds_train))\n",
    "print(\"Mean Squared Error on Train data : \", mean_squared_error(y_train, my_preds_train))\n",
    "print('Training set R squared score : ', grid_search.score(x_train, y_train))\n",
    "\n",
    "print('\\nTEST DATA RESULTS')\n",
    "print(\"Mean Absolute Error on Test data : \", mean_absolute_error(y_test, my_preds_test))\n",
    "print(\"Mean Squared Error on Test data : \", mean_squared_error(y_test, my_preds_test))\n",
    "print('Testing set R squared score : ', grid_search.score(x_test, y_test))"
   ]
  },
  {
   "cell_type": "code",
   "execution_count": null,
   "id": "8cd64dbd",
   "metadata": {},
   "outputs": [],
   "source": []
  }
 ],
 "metadata": {
  "kernelspec": {
   "display_name": "Python 3 (ipykernel)",
   "language": "python",
   "name": "python3"
  },
  "language_info": {
   "codemirror_mode": {
    "name": "ipython",
    "version": 3
   },
   "file_extension": ".py",
   "mimetype": "text/x-python",
   "name": "python",
   "nbconvert_exporter": "python",
   "pygments_lexer": "ipython3",
   "version": "3.11.5"
  }
 },
 "nbformat": 4,
 "nbformat_minor": 5
}
